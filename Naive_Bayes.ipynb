{
  "nbformat": 4,
  "nbformat_minor": 0,
  "metadata": {
    "colab": {
      "provenance": []
    },
    "kernelspec": {
      "name": "python3",
      "display_name": "Python 3"
    },
    "language_info": {
      "name": "python"
    }
  },
  "cells": [
    {
      "cell_type": "markdown",
      "source": [
        "## SVV"
      ],
      "metadata": {
        "id": "IiMZkxxPEZWb"
      }
    },
    {
      "cell_type": "code",
      "execution_count": null,
      "metadata": {
        "colab": {
          "base_uri": "https://localhost:8080/"
        },
        "id": "h5heNJ0NtQhn",
        "outputId": "18985a76-43d0-4d4a-9c83-6d53fb268aa0"
      },
      "outputs": [
        {
          "output_type": "stream",
          "name": "stdout",
          "text": [
            "Acurácia: 0.9333333333333333\n",
            "\n",
            "Relatório de Classificação:\n",
            "               precision    recall  f1-score   support\n",
            "\n",
            "      setosa       1.00      1.00      1.00        20\n",
            "  versicolor       0.86      0.95      0.90        20\n",
            "   virginica       0.94      0.85      0.89        20\n",
            "\n",
            "    accuracy                           0.93        60\n",
            "   macro avg       0.94      0.93      0.93        60\n",
            "weighted avg       0.94      0.93      0.93        60\n",
            "\n"
          ]
        }
      ],
      "source": [
        "# 1. Importações\n",
        "from sklearn.datasets import load_iris\n",
        "from sklearn.model_selection import train_test_split\n",
        "from sklearn.naive_bayes import GaussianNB\n",
        "from sklearn.metrics import classification_report, accuracy_score\n",
        "import pandas as pd\n",
        "import numpy as np\n",
        "\n",
        "# 2. Carregando os dados\n",
        "iris = load_iris()\n",
        "X = iris.data\n",
        "y = iris.target\n",
        "\n",
        "# 2.1 Filtrando classes desejadas (opcional)\n",
        "# Use [0, 1, 2] para todas, ou [1, 2] para versicolor e virginica\n",
        "classes_usadas = [0, 1, 2]\n",
        "filtro = np.isin(y, classes_usadas)\n",
        "X = X[filtro]\n",
        "y = y[filtro]\n",
        "\n",
        "# Garantindo número igual por classe (ex: 50 de cada)\n",
        "X_filtrado = []\n",
        "y_filtrado = []\n",
        "\n",
        "for classe in classes_usadas:\n",
        "    idx = np.where(y == classe)[0][:50]  # pega os primeiros 50 de cada classe\n",
        "    X_filtrado.append(X[idx])\n",
        "    y_filtrado.append(y[idx])\n",
        "\n",
        "X = np.vstack(X_filtrado)\n",
        "y = np.concatenate(y_filtrado)\n",
        "\n",
        "# x. Dividindo entre treino e teste (30% treino, 70% teste)\n",
        "# X_train, X_test, y_train, y_test = train_test_split(X, y, train_size=45, test_size=105, random_state=42, stratify=y)\n",
        "\n",
        "# x.1 Dividindo entre treino e teste (70% treino, 30% teste)\n",
        "# X_train, X_test, y_train, y_test = train_test_split(X, y, train_size=105, test_size=45, random_state=42, stratify=y)\n",
        "\n",
        "# x.2 Dividindo entre treino e teste (50% treino, 50% teste)\n",
        "# X_train, X_test, y_train, y_test = train_test_split(X, y, train_size=75, test_size=75, random_state=42, stratify=y)\n",
        "\n",
        "# x.3 Dividindo entre treino e teste (80% treino, 20% teste)\n",
        "# X_train, X_test, y_train, y_test = train_test_split(X, y, train_size=120, test_size=30, random_state=42, stratify=y)\n",
        "\n",
        "X_train, X_test, y_train, y_test = train_test_split(X, y, train_size=90, test_size=60, random_state=42, stratify=y)\n",
        "\n",
        "# 4. Criando e treinando o modelo\n",
        "model = GaussianNB()\n",
        "model.fit(X_train, y_train)\n",
        "\n",
        "# 5. Fazendo previsões\n",
        "y_pred = model.predict(X_test)\n",
        "\n",
        "# 6. Avaliação do modelo\n",
        "# Ajustar nomes das classes para o relatório\n",
        "\n",
        "nomes_alvo = iris.target_names[classes_usadas]\n",
        "print(\"Acurácia:\", accuracy_score(y_test, y_pred))\n",
        "print(\"\\nRelatório de Classificação:\\n\", classification_report(y_test, y_pred, target_names=iris.target_names))\n"
      ]
    },
    {
      "cell_type": "markdown",
      "source": [
        "## VV"
      ],
      "metadata": {
        "id": "iutUYPaGEdZS"
      }
    },
    {
      "cell_type": "code",
      "source": [
        "# 1. Importações\n",
        "from sklearn.datasets import load_iris\n",
        "from sklearn.model_selection import train_test_split\n",
        "from sklearn.naive_bayes import GaussianNB\n",
        "from sklearn.metrics import classification_report, accuracy_score\n",
        "import pandas as pd\n",
        "\n",
        "# 2. Carregando os dados\n",
        "iris = load_iris()\n",
        "X = iris.data\n",
        "y = iris.target\n",
        "\n",
        "# 2.1 Filtrando classes desejadas (opcional)\n",
        "# Use [0, 1, 2] para todas, ou [1, 2] para versicolor e virginica\n",
        "classes_usadas = [1, 2]  # <- Troque aqui em qual vc quer\n",
        "filtro = np.isin(y, classes_usadas)\n",
        "X = X[filtro]\n",
        "y = y[filtro]\n",
        "\n",
        "# Garantindo número igual por classe (ex: 50 de cada)\n",
        "X_filtrado = []\n",
        "y_filtrado = []\n",
        "\n",
        "for classe in classes_usadas:\n",
        "    idx = np.where(y == classe)[0][:50]  # pega os primeiros 50 de cada classe\n",
        "    X_filtrado.append(X[idx])\n",
        "    y_filtrado.append(y[idx])\n",
        "\n",
        "X = np.vstack(X_filtrado)\n",
        "y = np.concatenate(y_filtrado)\n",
        "\n",
        "# x. Dividindo entre treino e teste (30% treino, 70% teste)\n",
        "# X_train, X_test, y_train, y_test = train_test_split(X, y, train_size=30, test_size=70, random_state=42, stratify=y)\n",
        "\n",
        "# x.1 Dividindo entre treino e teste (70% treino, 30% teste)\n",
        "# X_train, X_test, y_train, y_test = train_test_split(X, y, train_size=70, test_size=30, random_state=42, stratify=y)\n",
        "\n",
        "# x.2 Dividindo entre treino e teste (50% treino, 50% teste)\n",
        "# X_train, X_test, y_train, y_test = train_test_split(X, y, train_size=50, test_size=50, random_state=42, stratify=y)\n",
        "\n",
        "# x.3 Dividindo entre treino e teste (80% treino, 20% teste)\n",
        "X_train, X_test, y_train, y_test = train_test_split(X, y, train_size=60, test_size=40, random_state=42, stratify=y)\n",
        "\n",
        "# 4. Criando e treinando o modelo\n",
        "model = GaussianNB()\n",
        "model.fit(X_train, y_train)\n",
        "\n",
        "# 5. Fazendo previsões\n",
        "y_pred = model.predict(X_test)\n",
        "\n",
        "# 6. Avaliação do modelo\n",
        "# Ajustar nomes das classes para o relatório\n",
        "nomes_alvo = iris.target_names[classes_usadas]\n",
        "print(\"Acurácia:\", accuracy_score(y_test, y_pred))\n",
        "print(\"\\nRelatório de Classificação:\\n\", classification_report(y_test, y_pred, target_names=nomes_alvo))\n"
      ],
      "metadata": {
        "colab": {
          "base_uri": "https://localhost:8080/"
        },
        "id": "wKI7VixF_tw3",
        "outputId": "825a6e8b-686d-42ac-a8ff-39213cceb82f"
      },
      "execution_count": null,
      "outputs": [
        {
          "output_type": "stream",
          "name": "stdout",
          "text": [
            "Acurácia: 0.9\n",
            "\n",
            "Relatório de Classificação:\n",
            "               precision    recall  f1-score   support\n",
            "\n",
            "  versicolor       0.86      0.95      0.90        20\n",
            "   virginica       0.94      0.85      0.89        20\n",
            "\n",
            "    accuracy                           0.90        40\n",
            "   macro avg       0.90      0.90      0.90        40\n",
            "weighted avg       0.90      0.90      0.90        40\n",
            "\n"
          ]
        }
      ]
    },
    {
      "cell_type": "markdown",
      "source": [
        "## Testes"
      ],
      "metadata": {
        "id": "e-XkTvqqB2Mp"
      }
    },
    {
      "cell_type": "code",
      "source": [
        "# 1. Importações\n",
        "from sklearn.datasets import load_iris\n",
        "from sklearn.model_selection import train_test_split\n",
        "from sklearn.naive_bayes import GaussianNB\n",
        "from sklearn.metrics import classification_report, accuracy_score\n",
        "import pandas as pd\n",
        "import numpy as np\n",
        "\n",
        "# 2. Carregando os dados\n",
        "iris = load_iris()\n",
        "X = iris.data\n",
        "y = iris.target\n",
        "\n",
        "# 2.1 Filtrando classes desejadas (opcional)\n",
        "# Use [0, 1, 2] para todas, ou [1, 2] para versicolor e virginica\n",
        "classes_usadas = [1, 2]  # <- Troque aqui conforme quiser\n",
        "filtro = np.isin(y, classes_usadas)\n",
        "X = X[filtro]\n",
        "y = y[filtro]\n",
        "\n",
        "# 3. Dividindo entre treino e teste (30% treino, 70% teste)\n",
        "# X_train, X_test, y_train, y_test = train_test_split(X, y, test_size=0.7, random_state=42)\n",
        "\n",
        "# 3.1 Dividindo entre treino e teste (70% treino, 30% teste)\n",
        "# X_train, X_test, y_train, y_test = train_test_split(X, y, test_size=0.3, random_state=42)\n",
        "\n",
        "# 3.2 Dividindo entre treino e teste (50% treino, 50% teste)\n",
        "# X_train, X_test, y_train, y_test = train_test_split(X, y, test_size=0.5, random_state=42)\n",
        "\n",
        "# 3.3 Dividindo entre treino e teste (80% treino, 20% teste)\n",
        "# X_train, X_test, y_train, y_test = train_test_split(X, y, test_size=0.2, random_state=42)\n",
        "\n",
        "# x. Dividindo entre treino e teste (30% treino, 70% teste)\n",
        "X_train, X_test, y_train, y_test = train_test_split(X, y, train_size=30, test_size=70, random_state=42)\n",
        "\n",
        "# x.1 Dividindo entre treino e teste (70% treino, 30% teste)\n",
        "# X_train, X_test, y_train, y_test = train_test_split(X, y, train_size=70, test_size=30, random_state=42)\n",
        "\n",
        "# x.2 Dividindo entre treino e teste (50% treino, 50% teste)\n",
        "# X_train, X_test, y_train, y_test = train_test_split(X, y, train_size=50, test_size=50, random_state=42)\n",
        "\n",
        "# x.3 Dividindo entre treino e teste (80% treino, 20% teste)\n",
        "# X_train, X_test, y_train, y_test = train_test_split(X, y, train_size=80, test_size=20, random_state=42)\n",
        "\n",
        "# 4. Criando e treinando o modelo\n",
        "model = GaussianNB()\n",
        "model.fit(X_train, y_train)\n",
        "\n",
        "# 5. Fazendo previsões\n",
        "y_pred = model.predict(X_test)\n",
        "\n",
        "# 6. Avaliação do modelo\n",
        "# Ajustar nomes das classes para o relatório\n",
        "nomes_alvo = iris.target_names[classes_usadas]\n",
        "print(\"Acurácia:\", accuracy_score(y_test, y_pred))\n",
        "print(\"\\nRelatório de Classificação:\\n\", classification_report(y_test, y_pred, target_names=nomes_alvo))\n"
      ],
      "metadata": {
        "colab": {
          "base_uri": "https://localhost:8080/"
        },
        "id": "wRWIkCqV_b9d",
        "outputId": "26ee71cb-1ee8-48ce-c7f2-5ae1d0c89dce"
      },
      "execution_count": null,
      "outputs": [
        {
          "output_type": "stream",
          "name": "stdout",
          "text": [
            "Acurácia: 0.9428571428571428\n",
            "\n",
            "Relatório de Classificação:\n",
            "               precision    recall  f1-score   support\n",
            "\n",
            "  versicolor       0.93      0.97      0.95        39\n",
            "   virginica       0.97      0.90      0.93        31\n",
            "\n",
            "    accuracy                           0.94        70\n",
            "   macro avg       0.95      0.94      0.94        70\n",
            "weighted avg       0.94      0.94      0.94        70\n",
            "\n"
          ]
        }
      ]
    },
    {
      "cell_type": "code",
      "source": [
        "# 1. Importações\n",
        "from sklearn.datasets import load_iris\n",
        "from sklearn.model_selection import train_test_split\n",
        "from sklearn.naive_bayes import GaussianNB\n",
        "from sklearn.metrics import classification_report, accuracy_score\n",
        "import pandas as pd\n",
        "\n",
        "# 2. Carregando os dados\n",
        "iris = load_iris()\n",
        "X = iris.data\n",
        "y = iris.target\n",
        "\n",
        "# 2.1 Filtrando classes desejadas (opcional)\n",
        "# Use [0, 1, 2] para todas, ou [1, 2] para versicolor e virginica\n",
        "classes_usadas = [0, 1, 2]  # <- Troque aqui conforme quiser\n",
        "filtro = np.isin(y, classes_usadas)\n",
        "X = X[filtro]\n",
        "y = y[filtro]\n",
        "\n",
        "# Garantindo número igual por classe (ex: 40 de cada)\n",
        "X_filtrado = []\n",
        "y_filtrado = []\n",
        "\n",
        "for classe in classes_usadas:\n",
        "    idx = np.where(y == classe)[0][:50]  # pega os primeiros 50 de cada classe\n",
        "    X_filtrado.append(X[idx])\n",
        "    y_filtrado.append(y[idx])\n",
        "\n",
        "X = np.vstack(X_filtrado)\n",
        "y = np.concatenate(y_filtrado)\n",
        "\n",
        "# 3. Dividindo entre treino e teste (30% treino, 70% teste)\n",
        "# X_train, X_test, y_train, y_test = train_test_split(X, y, test_size=0.7, random_state=42, stratify=y)\n",
        "\n",
        "# 3.1 Dividindo entre treino e teste (70% treino, 30% teste)\n",
        "# X_train, X_test, y_train, y_test = train_test_split(X, y, test_size=0.3, random_state=42, stratify=y)\n",
        "\n",
        "# 3.2 Dividindo entre treino e teste (50% treino, 50% teste)\n",
        "# X_train, X_test, y_train, y_test = train_test_split(X, y, test_size=0.5, random_state=42, stratify=y)\n",
        "\n",
        "# 3.3 Dividindo entre treino e teste (80% treino, 20% teste)\n",
        "# X_train, X_test, y_train, y_test = train_test_split(X, y, test_size=0.2, random_state=42, stratify=y)\n",
        "\n",
        "\n",
        "# x. Dividindo entre treino e teste (30% treino, 70% teste)\n",
        "X_train, X_test, y_train, y_test = train_test_split(X, y, train_size=45, test_size=105, random_state=42, stratify=y)\n",
        "\n",
        "# x.1 Dividindo entre treino e teste (70% treino, 30% teste)\n",
        "# X_train, X_test, y_train, y_test = train_test_split(X, y, train_size=105, test_size=45, random_state=42, stratify=y)\n",
        "\n",
        "# x.2 Dividindo entre treino e teste (50% treino, 50% teste)\n",
        "# X_train, X_test, y_train, y_test = train_test_split(X, y, train_size=75, test_size=75, random_state=42, stratify=y)\n",
        "\n",
        "# x.3 Dividindo entre treino e teste (80% treino, 20% teste)\n",
        "# X_train, X_test, y_train, y_test = train_test_split(X, y, train_size=120, test_size=30, random_state=42, stratify=y)\n",
        "\n",
        "# 4. Criando e treinando o modelo\n",
        "model = GaussianNB()\n",
        "model.fit(X_train, y_train)\n",
        "\n",
        "# 5. Fazendo previsões\n",
        "y_pred = model.predict(X_test)\n",
        "\n",
        "# 6. Avaliação do modelo\n",
        "# Ajustar nomes das classes para o relatório\n",
        "nomes_alvo = iris.target_names[classes_usadas]\n",
        "print(\"Acurácia:\", accuracy_score(y_test, y_pred))\n",
        "print(\"\\nRelatório de Classificação:\\n\", classification_report(y_test, y_pred, target_names=iris.target_names))\n"
      ],
      "metadata": {
        "id": "kbAr-KmhBdev"
      },
      "execution_count": null,
      "outputs": []
    }
  ]
}