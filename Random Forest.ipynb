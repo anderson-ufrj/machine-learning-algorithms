{
 "cells": [
  {
   "cell_type": "markdown",
   "metadata": {
    "id": "WjF7HZ_D7fkR"
   },
   "source": []
  },
  {
   "cell_type": "markdown",
   "metadata": {
    "id": "EopEhWnUlv4Q"
   },
   "source": [
    "# **Random Forest - <font color='gold'>Conceitos e Fundamentos</font>**"
   ]
  },
  {
   "cell_type": "markdown",
   "metadata": {
    "id": "9UIU63rgqeWL"
   },
   "source": [
    "## 🌲 **O que é?**\n"
   ]
  },
  {
   "cell_type": "markdown",
   "metadata": {
    "id": "uEnte2MgqSqr"
   },
   "source": [
    "Random Forest é um algoritmo de aprendizado de máquina supervisionado baseado em ensemble de árvores de decisão. Ele combina várias árvores para melhorar a precisão, robustez e generalização do modelo."
   ]
  },
  {
   "cell_type": "markdown",
   "metadata": {
    "id": "jh3gdYNwqf1E"
   },
   "source": [
    "## 🔧 **Como funciona?**"
   ]
  },
  {
   "cell_type": "markdown",
   "metadata": {
    "id": "n5nOIQFwqvcS"
   },
   "source": [
    "1. **Bootstraping (Bagging):**\n",
    "   Cada árvore é treinada em uma **amostra aleatória com reposição** do conjunto de dados original.\n",
    "\n",
    "2. **Seleção aleatória de atributos:**\n",
    "   Ao construir uma árvore, a cada divisão do nó, o algoritmo considera **apenas um subconjunto aleatório de atributos**, reduzindo a correlação entre as árvores.\n",
    "\n",
    "3. **Votação ou média:**\n",
    "\n",
    "   * **Classificação:** a classe final é decidida por **votação da maioria** entre as árvores.\n",
    "   * **Regressão:** a saída final é a **média** das previsões das árvores."
   ]
  },
  {
   "cell_type": "markdown",
   "metadata": {
    "id": "M4zx8C_8rfFt"
   },
   "source": [
    "## ✅ **Vantagens**"
   ]
  },
  {
   "cell_type": "markdown",
   "metadata": {
    "id": "cnBwzO7lred0"
   },
   "source": [
    "* **Alta acurácia** mesmo com poucos ajustes de parâmetros.\n",
    "* **Resistente ao overfitting** (comparado a uma única árvore).\n",
    "* **Funciona bem com dados desbalanceados** e com **valores ausentes**.\n",
    "* **Importância de atributos:** pode avaliar a relevância de cada variável."
   ]
  },
  {
   "cell_type": "markdown",
   "metadata": {
    "id": "06zj5UrWrilw"
   },
   "source": [
    "## ⚠️ **Desvantagens**"
   ]
  },
  {
   "cell_type": "markdown",
   "metadata": {
    "id": "LRMfvv_TrppO"
   },
   "source": [
    "* **Menos interpretável** que uma única árvore de decisão.\n",
    "* **Mais lento** para predições e uso de memória (devido a várias árvores).\n",
    "* Pode não performar tão bem em **problemas com dados muito esparsos** (ex: texto)."
   ]
  },
  {
   "cell_type": "markdown",
   "metadata": {
    "id": "uy9CGvIGr2GR"
   },
   "source": [
    "## 📌 **Principais Hiperparâmetros**"
   ]
  },
  {
   "cell_type": "markdown",
   "metadata": {
    "id": "X0S0-VWxsbg1"
   },
   "source": [
    "* `n_estimators`: número de árvores na floresta.\n",
    "* `max_depth`: profundidade máxima de cada árvore.\n",
    "* `max_features`: número máximo de atributos considerados por divisão.\n",
    "* `min_samples_split`: número mínimo de amostras para dividir um nó."
   ]
  },
  {
   "cell_type": "markdown",
   "metadata": {
    "id": "yKJS_c4qsg6W"
   },
   "source": [
    "## 📈 **Aplicações comuns**"
   ]
  },
  {
   "cell_type": "markdown",
   "metadata": {
    "id": "RdadTVjrskit"
   },
   "source": [
    "* Diagnóstico médico\n",
    "* Detecção de fraudes\n",
    "* Classificação de imagens e textos\n",
    "* Análise de sentimentos\n",
    "* Modelos de crédito"
   ]
  },
  {
   "cell_type": "markdown",
   "metadata": {
    "id": "XgmNemyjsVtX"
   },
   "source": [
    "# **Random Forest - <font color='gold'>Algoritmo</font>**"
   ]
  },
  {
   "cell_type": "markdown",
   "metadata": {
    "id": "B8KLONwAbX45"
   },
   "source": [
    "## **Importando as bibliotecas**"
   ]
  },
  {
   "cell_type": "code",
   "execution_count": null,
   "metadata": {
    "id": "ruYAvGZisTMS"
   },
   "outputs": [],
   "source": [
    "import numpy as np\n",
    "import matplotlib.pyplot as plt\n",
    "from sklearn.ensemble import RandomForestClassifier\n",
    "from sklearn.datasets import load_iris\n",
    "from sklearn.metrics import accuracy_score\n",
    "import pandas as pd"
   ]
  },
  {
   "cell_type": "markdown",
   "metadata": {
    "id": "zsXDK2ABdahG"
   },
   "source": [
    "## **Criando e separando as amostras de treino e teste**"
   ]
  },
  {
   "cell_type": "code",
   "execution_count": null,
   "metadata": {
    "id": "tGBIpQAadw3_"
   },
   "outputs": [],
   "source": [
    "def split_manual(X, y, classes, n_train, n_test):\n",
    "\n",
    "    \"\"\"\n",
    "    Divide X e y manualmente, garantindo n_train e n_test por classe.\n",
    "    \"\"\"\n",
    "    X_train, y_train, X_test, y_test = [], [], [], []\n",
    "\n",
    "    for cls in classes:\n",
    "        idx = np.where(y == cls)[0]\n",
    "        np.random.shuffle(idx)\n",
    "        train_idx = idx[:n_train]\n",
    "        test_idx = idx[n_train:n_train + n_test]\n",
    "\n",
    "        X_train.append(X[train_idx])\n",
    "        y_train.append(y[train_idx])\n",
    "        X_test.append(X[test_idx])\n",
    "        y_test.append(y[test_idx])\n",
    "\n",
    "    return (\n",
    "        np.vstack(X_train), np.concatenate(y_train),\n",
    "        np.vstack(X_test), np.concatenate(y_test)\n",
    "    )"
   ]
  },
  {
   "cell_type": "markdown",
   "metadata": {
    "id": "qAsZ40D5d5UM"
   },
   "source": [
    "## **Criando as árvores e treinando o(s) modelo(s)**"
   ]
  },
  {
   "cell_type": "code",
   "execution_count": null,
   "metadata": {
    "id": "2eL2_LYRdt0C"
   },
   "outputs": [],
   "source": [
    "def avaliar_modelos(X_train, X_test, y_train, y_test, titulo):\n",
    "\n",
    "    params_treino = [\n",
    "        (\"Main\", 50, 3, 2, 42)\n",
    "    ]\n",
    "\n",
    "    modelos = [\n",
    "\n",
    "        (\"Modelo 1\", RandomForestClassifier(n_estimators=50, max_depth=3, min_samples_leaf=2, random_state=42)),\n",
    "\n",
    "        # Modelos da apresentação:\n",
    "        # (\"Underfitting\", RandomForestClassifier(n_estimators=1, max_depth=1, min_samples_leaf=20, random_state=42)),\n",
    "        # (\"Balanceado\", RandomForestClassifier(n_estimators=50, max_depth=3, min_samples_leaf=2, random_state=42)),\n",
    "        # (\"Overfitting\", RandomForestClassifier(n_estimators=500, max_depth=None, min_samples_leaf=1, random_state=42)),\n",
    "    ]\n",
    "\n",
    "    resultados = []\n",
    "\n",
    "    cont = 0\n",
    "\n",
    "    for nome, modelo in modelos:\n",
    "        modelo.fit(X_train, y_train)\n",
    "        acc_train = accuracy_score(y_train, modelo.predict(X_train))\n",
    "        acc_test = accuracy_score(y_test, modelo.predict(X_test))\n",
    "        resultados.append((nome, acc_train, acc_test, acc_train - acc_test))\n",
    "        print(f\"{titulo} - Treino: {acc_train:.3f}, Teste: {acc_test:.3f}, Diferença: {acc_train - acc_test:.3f}\")\n",
    "        print(f\"N. Árvores: {params_treino[cont][1]}, Profundidade: {params_treino[cont][2]}, N. Amostras nas folhas: {params_treino[cont][3]}, Random state: {params_treino[cont][4]}\")\n",
    "        cont += 1\n",
    "\n",
    "    return resultados"
   ]
  },
  {
   "cell_type": "markdown",
   "metadata": {
    "id": "hy2HigS8ecLG"
   },
   "source": [
    "## **Plottando os gráficos**"
   ]
  },
  {
   "cell_type": "code",
   "execution_count": null,
   "metadata": {
    "id": "CAQiiFngeN-j"
   },
   "outputs": [],
   "source": [
    "def plottar_graficos(resultados, titulo):\n",
    "\n",
    "    df = pd.DataFrame(resultados, columns=[\"Modelo\", \"Acurácia Treino\", \"Acurácia Teste\", \"Diferença\"])\n",
    "    # fig, axs = plt.subplots(1, 2, figsize=(12, 5))\n",
    "    fig, ax = plt.subplots(figsize=(6, 5))\n",
    "    x = np.arange(len(df))\n",
    "    bar_width = 0.35\n",
    "\n",
    "    ax.bar(x - bar_width/2, df[\"Acurácia Treino\"], width=bar_width, label=\"Treino\")\n",
    "    ax.bar(x + bar_width/2, df[\"Acurácia Teste\"], width=bar_width, label=\"Teste\")\n",
    "    ax.set_xticks(x)\n",
    "    ax.set_xticklabels(df[\"Modelo\"])\n",
    "    ax.set_title(f\"{titulo} - Acurácia Treino vs Teste\")\n",
    "    ax.legend()\n",
    "    ax.grid(alpha=0.3)\n",
    "\n",
    "    # axs[1].plot(df[\"Modelo\"], df[\"Diferença\"], marker='o', color='red')\n",
    "    # axs[1].set_title(f\"{titulo} - Gap de Acurácia\")\n",
    "    # axs[1].axhline(0, linestyle='--', color='black', alpha=0.5)\n",
    "    # axs[1].grid(alpha=0.3)\n",
    "\n",
    "    plt.tight_layout()\n",
    "    plt.show()"
   ]
  },
  {
   "cell_type": "markdown",
   "metadata": {
    "id": "RmCwSGk2elwo"
   },
   "source": [
    "## **Instanciando o banco de dados Iris**"
   ]
  },
  {
   "cell_type": "code",
   "execution_count": null,
   "metadata": {
    "id": "R3L8Ll-ceQ-b"
   },
   "outputs": [],
   "source": [
    "iris = load_iris()\n",
    "X = iris.data\n",
    "y = iris.target\n",
    "\n",
    "np.random.seed(42)  # Reprodutibilidade"
   ]
  },
  {
   "cell_type": "markdown",
   "metadata": {
    "id": "ArF90nXqe7DP"
   },
   "source": [
    "## **Caso 1 - Setosa vs Versicolor (Treino: 30 | Teste: 20)**"
   ]
  },
  {
   "cell_type": "code",
   "execution_count": null,
   "metadata": {
    "colab": {
     "base_uri": "https://localhost:8080/"
    },
    "id": "DbbxytvEeyD4",
    "outputId": "391b45ba-5843-46a6-a150-917d912a70f0"
   },
   "outputs": [
    {
     "name": "stdout",
     "output_type": "stream",
     "text": [
      "Setosa vs Versicolor - Treino: 1.000, Teste: 1.000, Diferença: 0.000\n",
      "N. Árvores: 50, Profundidade: 3, N. Amostras nas folhas: 2, Random state: 42\n"
     ]
    },
    {
     "data": {
      "image/png": "[encoded data removed]",
      "text/plain": [
       "<Figure size 600x500 with 1 Axes>"
      ]
     },
     "metadata": {},
     "output_type": "display_data"
    }
   ],
   "source": [
    "#@title { vertical-output: true}\n",
    "\n",
    "mask_0_1 = y <= 1\n",
    "X_01, y_01 = X[mask_0_1], y[mask_0_1]\n",
    "X_train, y_train, X_test, y_test = split_manual(X_01, y_01, classes=[0, 1], n_train=30, n_test=20)\n",
    "resultados = avaliar_modelos(X_train, X_test, y_train, y_test, \"Setosa vs Versicolor\")\n",
    "plottar_graficos(resultados, \"Setosa vs Versicolor\")"
   ]
  },
  {
   "cell_type": "markdown",
   "metadata": {
    "id": "UGAgQtrckyFO"
   },
   "source": [
    "## **Caso 2 - Versicolor vs Virginica (Treino: 30 | Teste: 20)**"
   ]
  },
  {
   "cell_type": "code",
   "execution_count": null,
   "metadata": {
    "colab": {
     "base_uri": "https://localhost:8080/"
    },
    "id": "xVNbaEe0ez-K",
    "outputId": "1de72d7c-2f32-47ea-a0bf-7446f7cc4b94"
   },
   "outputs": [
    {
     "name": "stdout",
     "output_type": "stream",
     "text": [
      "Versicolor vs Virginica - Treino: 0.983, Teste: 0.875, Diferença: 0.108\n",
      "N. Árvores: 50, Profundidade: 3, N. Amostras nas folhas: 2, Random state: 42\n"
     ]
    },
    {
     "data": {
      "image/png": "[encoded data removed]",
      "text/plain": [
       "<Figure size 600x500 with 1 Axes>"
      ]
     },
     "metadata": {},
     "output_type": "display_data"
    }
   ],
   "source": [
    "#@title { vertical-output: true}\n",
    "\n",
    "mask_1_2 = y >= 1\n",
    "X_12, y_12 = X[mask_1_2], y[mask_1_2] - 1  # reindexar para 0 e 1\n",
    "X_train, y_train, X_test, y_test = split_manual(X_12, y_12, classes=[0, 1], n_train=30, n_test=20)\n",
    "resultados = avaliar_modelos(X_train, X_test, y_train, y_test, \"Versicolor vs Virginica\")\n",
    "plottar_graficos(resultados, \"Versicolor vs Virginica\")"
   ]
  },
  {
   "cell_type": "markdown",
   "metadata": {
    "id": "wr21Axotk3BG"
   },
   "source": [
    "## **Caso 3 - Multiclasse (Treino: 30 | Teste: 20)**"
   ]
  },
  {
   "cell_type": "code",
   "execution_count": null,
   "metadata": {
    "colab": {
     "base_uri": "https://localhost:8080/",
     "height": 542
    },
    "id": "8zeaA7ZvN3oh",
    "outputId": "1b21fa6f-0f31-4cbd-973e-e4eeca4b0c8c"
   },
   "outputs": [
    {
     "name": "stdout",
     "output_type": "stream",
     "text": [
      "Multiclasse (3 classes) - Treino: 0.978, Teste: 0.933, Diferença: 0.044\n",
      "N. Árvores: 50, Profundidade: 3, N. Amostras nas folhas: 2, Random state: 42\n"
     ]
    },
    {
     "data": {
      "image/png": "[encoded data removed]",
      "text/plain": [
       "<Figure size 600x500 with 1 Axes>"
      ]
     },
     "metadata": {},
     "output_type": "display_data"
    }
   ],
   "source": [
    "#@title { vertical-output: true}\n",
    "\n",
    "X_train, y_train, X_test, y_test = split_manual(X, y, classes=[0, 1, 2], n_train=30, n_test=20)\n",
    "resultados = avaliar_modelos(X_train, X_test, y_train, y_test, \"Multiclasse (3 classes)\")\n",
    "plottar_graficos(resultados, \"Multiclasse (3 classes)\")"
   ]
  }
 ],
 "metadata": {
  "colab": {
   "collapsed_sections": [
    "EopEhWnUlv4Q",
    "9UIU63rgqeWL",
    "jh3gdYNwqf1E",
    "M4zx8C_8rfFt",
    "06zj5UrWrilw",
    "uy9CGvIGr2GR",
    "yKJS_c4qsg6W",
    "XgmNemyjsVtX",
    "B8KLONwAbX45",
    "zsXDK2ABdahG",
    "qAsZ40D5d5UM",
    "hy2HigS8ecLG",
    "RmCwSGk2elwo",
    "ArF90nXqe7DP",
    "UGAgQtrckyFO",
    "wr21Axotk3BG"
   ],
   "provenance": []
  },
  "kernelspec": {
   "display_name": "Python 3 (ipykernel)",
   "language": "python",
   "name": "python3"
  },
  "language_info": {
   "codemirror_mode": {
    "name": "ipython",
    "version": 3
   },
   "file_extension": ".py",
   "mimetype": "text/x-python",
   "name": "python",
   "nbconvert_exporter": "python",
   "pygments_lexer": "ipython3",
   "version": "3.13.3"
  }
 },
 "nbformat": 4,
 "nbformat_minor": 1
}
